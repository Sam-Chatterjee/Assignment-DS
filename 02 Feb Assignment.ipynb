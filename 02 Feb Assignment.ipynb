{
 "cells": [
  {
   "cell_type": "markdown",
   "id": "e78a82d2-d96e-4930-9f02-26d3f0dabbeb",
   "metadata": {},
   "source": [
    "*Q1"
   ]
  },
  {
   "cell_type": "markdown",
   "id": "f1922a9c-3810-41b1-ba9b-afb4e77e176b",
   "metadata": {},
   "source": [
    "For loop must be used when you know the exact number of repetations."
   ]
  },
  {
   "cell_type": "code",
   "execution_count": 1,
   "id": "758eaecc-4546-4c56-9b1d-c7eb49b391cc",
   "metadata": {},
   "outputs": [
    {
     "name": "stdout",
     "output_type": "stream",
     "text": [
      "0\n",
      "2\n",
      "4\n",
      "6\n",
      "8\n"
     ]
    }
   ],
   "source": [
    "for i in range(0,10,2):\n",
    "    print(i)"
   ]
  },
  {
   "cell_type": "markdown",
   "id": "1d930116-8495-44ab-9c38-5e55e60e4703",
   "metadata": {},
   "source": [
    "While Loop is used when the number of repetations depends on a condition that may change within the loop."
   ]
  },
  {
   "cell_type": "code",
   "execution_count": 2,
   "id": "17760528-8786-47a7-94e7-f48913b76169",
   "metadata": {},
   "outputs": [
    {
     "name": "stdout",
     "output_type": "stream",
     "text": [
      "0\n",
      "1\n",
      "2\n",
      "3\n",
      "4\n",
      "5\n",
      "6\n",
      "7\n",
      "8\n",
      "9\n"
     ]
    }
   ],
   "source": [
    "x = 0\n",
    "while x < 10:\n",
    "    print(x)\n",
    "    x = x+1"
   ]
  },
  {
   "cell_type": "markdown",
   "id": "cde1a522-1c22-4107-8fcd-b262df60b440",
   "metadata": {},
   "source": [
    "*Q2"
   ]
  },
  {
   "cell_type": "code",
   "execution_count": 3,
   "id": "1d93cf5c-2bec-4367-b917-0c7e2b536ec9",
   "metadata": {},
   "outputs": [
    {
     "name": "stdout",
     "output_type": "stream",
     "text": [
      "Sum: 1\n",
      "Product:  1\n",
      "Sum: 3\n",
      "Product:  2\n",
      "Sum: 6\n",
      "Product:  6\n",
      "Sum: 10\n",
      "Product:  24\n",
      "Sum: 15\n",
      "Product:  120\n",
      "Sum: 21\n",
      "Product:  720\n",
      "Sum: 28\n",
      "Product:  5040\n",
      "Sum: 36\n",
      "Product:  40320\n",
      "Sum: 45\n",
      "Product:  362880\n",
      "Sum: 55\n",
      "Product:  3628800\n"
     ]
    }
   ],
   "source": [
    "#FOR LOOP\n",
    "sum = 0\n",
    "prod = 1\n",
    "for i in range(1,11):\n",
    "    sum = sum + i\n",
    "    print('Sum:', sum)\n",
    "    prod = prod * i\n",
    "    print('Product: ', prod)"
   ]
  },
  {
   "cell_type": "code",
   "execution_count": 4,
   "id": "940d4114-ba23-4ede-bf79-ffaaca17de10",
   "metadata": {},
   "outputs": [
    {
     "name": "stdout",
     "output_type": "stream",
     "text": [
      "Sum: 55\n",
      "Product:  3628800\n"
     ]
    }
   ],
   "source": [
    "#WHILE LOOP\n",
    "n = 1\n",
    "sum = 0\n",
    "prod = 1\n",
    "while n <= 10:\n",
    "    sum = sum + n\n",
    "    prod = prod * n\n",
    "    n = n + 1\n",
    "print('Sum:', sum)\n",
    "print('Product: ', prod)"
   ]
  },
  {
   "cell_type": "markdown",
   "id": "c9357fae-2271-4b7d-85df-e19f0462a53c",
   "metadata": {},
   "source": [
    "*Q3"
   ]
  },
  {
   "cell_type": "code",
   "execution_count": 5,
   "id": "65c7851f-8d42-4f0c-8a17-2e7cad74c255",
   "metadata": {},
   "outputs": [
    {
     "name": "stdin",
     "output_type": "stream",
     "text": [
      "Enter Units:  310\n"
     ]
    },
    {
     "name": "stdout",
     "output_type": "stream",
     "text": [
      "Electricity Bill:  2250.0\n"
     ]
    }
   ],
   "source": [
    "units = eval(input(\"Enter Units: \"))\n",
    "total = 0\n",
    "\n",
    "if units <= 100:\n",
    "    total = units * 4.5\n",
    "elif units <= 200:\n",
    "    total = 100*4.5 + (units - 100) * 6\n",
    "elif units <= 300:\n",
    "    total = 100*4.5 + 100*6 + (units - 200) * 10\n",
    "elif units > 300:\n",
    "    total = 100*4.5 + 100*6 + 100*10 + (units-300) * 20\n",
    "print(\"Electricity Bill: \", total)"
   ]
  },
  {
   "cell_type": "markdown",
   "id": "0b7c3570-b905-48c6-8ca6-6f976e373413",
   "metadata": {},
   "source": [
    "*Q4"
   ]
  },
  {
   "cell_type": "code",
   "execution_count": 6,
   "id": "25394dd3-e853-419d-b0f0-a2b48b7dcfc5",
   "metadata": {},
   "outputs": [
    {
     "name": "stdout",
     "output_type": "stream",
     "text": [
      "[0, 1000, 8000, 27000, 64000, 125000, 216000, 343000, 512000, 729000]\n"
     ]
    }
   ],
   "source": [
    "#For Loop\n",
    "list = []\n",
    "cube = 1\n",
    "for i in range(0,100):\n",
    "    cube = i**3\n",
    "    if cube % 4 == 0 and cube % 5 == 0:\n",
    "        list.append(cube)\n",
    "print(list)"
   ]
  },
  {
   "cell_type": "code",
   "execution_count": null,
   "id": "b622a697-5e4b-4b93-ad70-c4cd49280d09",
   "metadata": {},
   "outputs": [],
   "source": [
    "cube = 1\n",
    "l = []\n",
    "i = 0\n",
    "while i < 101:\n",
    "    cube = i**3\n",
    "    if cube % 4 == 0 or cube % 5 == 0:\n",
    "        l.append(cube)\n",
    "print(l)"
   ]
  },
  {
   "cell_type": "markdown",
   "id": "e90d373a-66ec-473f-a3a3-f5302a6b5ad1",
   "metadata": {},
   "source": [
    "*Q5"
   ]
  },
  {
   "cell_type": "code",
   "execution_count": null,
   "id": "9d520e78-4f9d-4380-af5b-4155fb358925",
   "metadata": {},
   "outputs": [],
   "source": [
    "string = \"I want to become a data scientist\"\n",
    "vowels = 'aeiouAEIOU'\n",
    "total = 0\n",
    "for i in string:\n",
    "    if i in vowels:\n",
    "        total += 1\n",
    "print(\"Vowels: \", total)"
   ]
  },
  {
   "cell_type": "code",
   "execution_count": null,
   "id": "1df6aef5-0ac7-4b44-8e11-8990682ac657",
   "metadata": {},
   "outputs": [],
   "source": []
  }
 ],
 "metadata": {
  "kernelspec": {
   "display_name": "Python 3 (ipykernel)",
   "language": "python",
   "name": "python3"
  },
  "language_info": {
   "codemirror_mode": {
    "name": "ipython",
    "version": 3
   },
   "file_extension": ".py",
   "mimetype": "text/x-python",
   "name": "python",
   "nbconvert_exporter": "python",
   "pygments_lexer": "ipython3",
   "version": "3.10.8"
  }
 },
 "nbformat": 4,
 "nbformat_minor": 5
}
